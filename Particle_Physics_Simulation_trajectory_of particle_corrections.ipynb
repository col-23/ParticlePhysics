{
 "cells": [
  {
   "cell_type": "code",
   "execution_count": null,
   "metadata": {},
   "outputs": [
    {
     "name": "stdout",
     "output_type": "stream",
     "text": [
      "Select a Particle:\n",
      "Electron\n",
      "Positron\n",
      "Proton\n",
      "Antiproton\n",
      "Custom\n"
     ]
    },
    {
     "name": "stderr",
     "output_type": "stream",
     "text": [
      "/var/folders/mq/w_7f8kcx2bx2n3gcqd3k23h00000gn/T/ipykernel_25062/1484373439.py:71: RuntimeWarning: invalid value encountered in sqrt\n",
      "  v[0] = (v[0] / speed_perp) * np.sqrt(initial_speed**2 - v[2]**2)  # Normalize x-component\n",
      "/var/folders/mq/w_7f8kcx2bx2n3gcqd3k23h00000gn/T/ipykernel_25062/1484373439.py:72: RuntimeWarning: invalid value encountered in sqrt\n",
      "  v[1] = (v[1] / speed_perp) * np.sqrt(initial_speed**2 - v[2]**2)  # Normalize y-component\n",
      "2025-02-20 17:23:18.626 Python[25062:10097276] +[IMKClient subclass]: chose IMKClient_Modern\n",
      "2025-02-20 17:23:18.626 Python[25062:10097276] +[IMKInputSession subclass]: chose IMKInputSession_Modern\n"
     ]
    },
    {
     "ename": "TclError",
     "evalue": "can't invoke \"wm\" command: application has been destroyed",
     "output_type": "error",
     "traceback": [
      "\u001b[0;31m---------------------------------------------------------------------------\u001b[0m",
      "\u001b[0;31mTclError\u001b[0m                                  Traceback (most recent call last)",
      "Cell \u001b[0;32mIn[1], line 96\u001b[0m\n\u001b[1;32m     94\u001b[0m     fig\u001b[38;5;241m.\u001b[39mshow()\n\u001b[1;32m     95\u001b[0m     plt\u001b[38;5;241m.\u001b[39mshow()\n\u001b[0;32m---> 96\u001b[0m \u001b[43mrun\u001b[49m\u001b[43m(\u001b[49m\u001b[43m)\u001b[49m\n",
      "Cell \u001b[0;32mIn[1], line 94\u001b[0m, in \u001b[0;36mrun\u001b[0;34m()\u001b[0m\n\u001b[1;32m     92\u001b[0m ax\u001b[38;5;241m.\u001b[39mlegend()\n\u001b[1;32m     93\u001b[0m plt\u001b[38;5;241m.\u001b[39mshow()\n\u001b[0;32m---> 94\u001b[0m \u001b[43mfig\u001b[49m\u001b[38;5;241;43m.\u001b[39;49m\u001b[43mshow\u001b[49m\u001b[43m(\u001b[49m\u001b[43m)\u001b[49m\n\u001b[1;32m     95\u001b[0m plt\u001b[38;5;241m.\u001b[39mshow()\n",
      "File \u001b[0;32m/Library/Frameworks/Python.framework/Versions/3.11/lib/python3.11/site-packages/matplotlib/figure.py:2739\u001b[0m, in \u001b[0;36mFigure.show\u001b[0;34m(self, warn)\u001b[0m\n\u001b[1;32m   2735\u001b[0m     \u001b[38;5;28;01mraise\u001b[39;00m \u001b[38;5;167;01mAttributeError\u001b[39;00m(\n\u001b[1;32m   2736\u001b[0m         \u001b[38;5;124m\"\u001b[39m\u001b[38;5;124mFigure.show works only for figures managed by pyplot, \u001b[39m\u001b[38;5;124m\"\u001b[39m\n\u001b[1;32m   2737\u001b[0m         \u001b[38;5;124m\"\u001b[39m\u001b[38;5;124mnormally created by pyplot.figure()\u001b[39m\u001b[38;5;124m\"\u001b[39m)\n\u001b[1;32m   2738\u001b[0m \u001b[38;5;28;01mtry\u001b[39;00m:\n\u001b[0;32m-> 2739\u001b[0m     \u001b[38;5;28;43mself\u001b[39;49m\u001b[38;5;241;43m.\u001b[39;49m\u001b[43mcanvas\u001b[49m\u001b[38;5;241;43m.\u001b[39;49m\u001b[43mmanager\u001b[49m\u001b[38;5;241;43m.\u001b[39;49m\u001b[43mshow\u001b[49m\u001b[43m(\u001b[49m\u001b[43m)\u001b[49m\n\u001b[1;32m   2740\u001b[0m \u001b[38;5;28;01mexcept\u001b[39;00m NonGuiException \u001b[38;5;28;01mas\u001b[39;00m exc:\n\u001b[1;32m   2741\u001b[0m     \u001b[38;5;28;01mif\u001b[39;00m warn:\n",
      "File \u001b[0;32m/Library/Frameworks/Python.framework/Versions/3.11/lib/python3.11/site-packages/matplotlib/backends/_backend_tk.py:556\u001b[0m, in \u001b[0;36mFigureManagerTk.show\u001b[0;34m(self)\u001b[0m\n\u001b[1;32m    554\u001b[0m     \u001b[38;5;28mself\u001b[39m\u001b[38;5;241m.\u001b[39mcanvas\u001b[38;5;241m.\u001b[39mdraw_idle()\n\u001b[1;32m    555\u001b[0m \u001b[38;5;28;01mif\u001b[39;00m mpl\u001b[38;5;241m.\u001b[39mrcParams[\u001b[38;5;124m'\u001b[39m\u001b[38;5;124mfigure.raise_window\u001b[39m\u001b[38;5;124m'\u001b[39m]:\n\u001b[0;32m--> 556\u001b[0m     \u001b[38;5;28;43mself\u001b[39;49m\u001b[38;5;241;43m.\u001b[39;49m\u001b[43mcanvas\u001b[49m\u001b[38;5;241;43m.\u001b[39;49m\u001b[43mmanager\u001b[49m\u001b[38;5;241;43m.\u001b[39;49m\u001b[43mwindow\u001b[49m\u001b[38;5;241;43m.\u001b[39;49m\u001b[43mattributes\u001b[49m\u001b[43m(\u001b[49m\u001b[38;5;124;43m'\u001b[39;49m\u001b[38;5;124;43m-topmost\u001b[39;49m\u001b[38;5;124;43m'\u001b[39;49m\u001b[43m,\u001b[49m\u001b[43m \u001b[49m\u001b[38;5;241;43m1\u001b[39;49m\u001b[43m)\u001b[49m\n\u001b[1;32m    557\u001b[0m     \u001b[38;5;28mself\u001b[39m\u001b[38;5;241m.\u001b[39mcanvas\u001b[38;5;241m.\u001b[39mmanager\u001b[38;5;241m.\u001b[39mwindow\u001b[38;5;241m.\u001b[39mattributes(\u001b[38;5;124m'\u001b[39m\u001b[38;5;124m-topmost\u001b[39m\u001b[38;5;124m'\u001b[39m, \u001b[38;5;241m0\u001b[39m)\n\u001b[1;32m    558\u001b[0m \u001b[38;5;28mself\u001b[39m\u001b[38;5;241m.\u001b[39m_shown \u001b[38;5;241m=\u001b[39m \u001b[38;5;28;01mTrue\u001b[39;00m\n",
      "File \u001b[0;32m/Library/Frameworks/Python.framework/Versions/3.11/lib/python3.11/tkinter/__init__.py:2032\u001b[0m, in \u001b[0;36mWm.wm_attributes\u001b[0;34m(self, *args)\u001b[0m\n\u001b[1;32m   2014\u001b[0m \u001b[38;5;250m\u001b[39m\u001b[38;5;124;03m\"\"\"This subcommand returns or sets platform specific attributes\u001b[39;00m\n\u001b[1;32m   2015\u001b[0m \n\u001b[1;32m   2016\u001b[0m \u001b[38;5;124;03mThe first form returns a list of the platform specific flags and\u001b[39;00m\n\u001b[0;32m   (...)\u001b[0m\n\u001b[1;32m   2029\u001b[0m \u001b[38;5;124;03mOn Unix, there are currently no special attribute values.\u001b[39;00m\n\u001b[1;32m   2030\u001b[0m \u001b[38;5;124;03m\"\"\"\u001b[39;00m\n\u001b[1;32m   2031\u001b[0m args \u001b[38;5;241m=\u001b[39m (\u001b[38;5;124m'\u001b[39m\u001b[38;5;124mwm\u001b[39m\u001b[38;5;124m'\u001b[39m, \u001b[38;5;124m'\u001b[39m\u001b[38;5;124mattributes\u001b[39m\u001b[38;5;124m'\u001b[39m, \u001b[38;5;28mself\u001b[39m\u001b[38;5;241m.\u001b[39m_w) \u001b[38;5;241m+\u001b[39m args\n\u001b[0;32m-> 2032\u001b[0m \u001b[38;5;28;01mreturn\u001b[39;00m \u001b[38;5;28;43mself\u001b[39;49m\u001b[38;5;241;43m.\u001b[39;49m\u001b[43mtk\u001b[49m\u001b[38;5;241;43m.\u001b[39;49m\u001b[43mcall\u001b[49m\u001b[43m(\u001b[49m\u001b[43margs\u001b[49m\u001b[43m)\u001b[49m\n",
      "\u001b[0;31mTclError\u001b[0m: can't invoke \"wm\" command: application has been destroyed"
     ]
    },
    {
     "ename": "",
     "evalue": "",
     "output_type": "error",
     "traceback": [
      "\u001b[1;31mThe Kernel crashed while executing code in the current cell or a previous cell. \n",
      "\u001b[1;31mPlease review the code in the cell(s) to identify a possible cause of the failure. \n",
      "\u001b[1;31mClick <a href='https://aka.ms/vscodeJupyterKernelCrash'>here</a> for more info. \n",
      "\u001b[1;31mView Jupyter <a href='command:jupyter.viewOutput'>log</a> for further details."
     ]
    }
   ],
   "source": [
    "import numpy as np\n",
    "import matplotlib.pyplot as plt\n",
    "from mpl_toolkits.mplot3d import Axes3D\n",
    "from matplotlib.animation import FuncAnimation\n",
    "import matplotlib\n",
    "matplotlib.use('TkAgg')  # Use TkAgg backend for interactive plots\n",
    "\n",
    "\n",
    "# Particle data\n",
    "particles = {    # Store data about different particle presets\n",
    "    \"electron\": {\"charge\": -1.6e-19, \"mass\": 9.11e-31, \"time_step\": 1e-11, \"total_time\": 1e-8},\n",
    "    \"positron\" : {\"charge\": 1.6e-19, \"mass\": 9.11e-31, \"time_step\": 1e-11, \"total_time\": 1e-8},\n",
    "    \"proton\": {\"charge\": 1.6e-19, \"mass\": 1.67e-27, \"time_step\": 1e-11, \"total_time\": 2e-7},\n",
    "    \"antiproton\": {\"charge\": -1.6e-19, \"mass\": 1.67e-27, \"time_step\": 1e-11, \"total_time\": 2e-7}\n",
    "}\n",
    "def get_user_input():\n",
    "    print(\"Select a Particle:\\nElectron\\nPositron\\nProton\\nAntiproton\\nCustom\") # Displays different choices users have \n",
    "    particle = input(\"Enter particle type: (case insensitive) \")\n",
    "    if particle.lower() in particles:  # Checks to see if the input is one of the preset particles\n",
    "        data = particles[particle.lower()] # Converts all inputs into lowercase to achieve case insensitivity\n",
    "    else:  # Allows user to create their own particle\n",
    "        charge = float(input(\"Enter charge (C): (should be in standard form, e.g. 1.6e-19)\"))\n",
    "        mass = float(input(\"Enter mass (kg): (should be in standard form, e.g. 9.11e-31)\"))\n",
    "        time_step = float(input(\"Enter time step (s): (should be in standard form, e.g. 1e-11)\"))\n",
    "        total_time = float(input(\"Enter total time (s): (should be in standard form, e.g. 1e-8)\"))\n",
    "        data = {\"charge\": charge, \"mass\": mass, \"time_step\": time_step, \"total_time\": total_time}\n",
    "    return data\n",
    "def get_advanced(): # Users input advanced stats\n",
    "    x, y, z = map(float, input(\"Enter the initial coordinates (x, y, z): \").split(','))\n",
    "    B_x, B_y, B_z = map(float, input(\"Enter magnetic field components (Bx, By, Bz): \").split(','))\n",
    "    v = np.array(list(map(float, input(\"Enter velocity components (vx, vy, vz): \").split(','))))\n",
    "    return x, y, z, B_x, B_y, B_z, v\n",
    "def run():\n",
    "    # Constants\n",
    "    data = get_user_input()\n",
    "    q, m, time_step, total_time = data[\"charge\"], data[\"mass\"], data[\"time_step\"], data[\"total_time\"]\n",
    "    advanced_stats = str(input(\"Do you wish to moodify starting position, velocity, and magnetic field components? (enter y or n)\"))\n",
    "    if advanced_stats.lower() == \"y\": #Advanced stats are manually entered if the user inputs \"y\"\n",
    "        x, y, z, B_x, B_y, B_z, v = get_advanced()   \n",
    "    else:  # Default preset\n",
    "        x, y, z = 0.0, 0.0, 0.0 # Initial position components (m)\n",
    "        B_x, B_y, B_z = 0.0, 0.0, 0.4 # Magnetic field components (Tesla) - points out of the page\n",
    "        v = np.array([1e6, 1e6, 1e6])  # Initial velocity components (m/s) - includes z-component\n",
    "\n",
    "    # Calculate the initial speed\n",
    "    initial_speed = np.sqrt(v[0]**2 + v[1]**2 + v[2]**2)\n",
    "\n",
    "    # Arrays to store the trajectory\n",
    "    times = np.arange(0, total_time, time_step)\n",
    "    x_positions, y_positions, z_positions = [], [], []\n",
    "\n",
    "    # Magnetic field vector\n",
    "    B = np.array([B_x, B_y, B_z])\n",
    "\n",
    "    # Calculating the Lorentz Force\n",
    "    for t in times:\n",
    "        # Lorentz force\n",
    "        F = q * np.cross(v, B)\n",
    "        \n",
    "        # Acceleration\n",
    "        a = F / m\n",
    "        \n",
    "        # Update velocities\n",
    "        v += a * time_step\n",
    "\n",
    "        # Calculate the perpendicular speed\n",
    "        speed_perp = np.sqrt(v[0]**2 + v[1]**2)\n",
    "\n",
    "        # Normalize the perpendicular components (x and y) to maintain constant speed in the xy-plane\n",
    "        if speed_perp > 0:  # Avoid division by zero\n",
    "            v[0] = (v[0] / speed_perp) * np.sqrt(initial_speed**2 - v[2]**2)  # Normalize x-component\n",
    "            v[1] = (v[1] / speed_perp) * np.sqrt(initial_speed**2 - v[2]**2)  # Normalize y-component\n",
    "        \n",
    "        # Update positions\n",
    "        x += v[0] * time_step\n",
    "        y += v[1] * time_step\n",
    "        z += v[2] * time_step\n",
    "        \n",
    "        # Store positions\n",
    "        x_positions.append(x)\n",
    "        y_positions.append(y)\n",
    "        z_positions.append(z)\n",
    "    \n",
    "\n",
    "    # Plot the trajectory\n",
    "    fig = plt.figure()\n",
    "    ax = fig.add_subplot(111, projection='3d')\n",
    "    ax.plot(x_positions, y_positions, z_positions, label='Particle Trajectory')\n",
    "    ax.set_xlabel('X (m)')\n",
    "    ax.set_ylabel('Y (m)')\n",
    "    ax.set_zlabel('Z (m)')\n",
    "    ax.legend()\n",
    "    plt.show()\n",
    "    fig.show()\n",
    "    plt.show()\n",
    "run()"
   ]
  },
  {
   "cell_type": "code",
   "execution_count": null,
   "metadata": {},
   "outputs": [],
   "source": []
  }
 ],
 "metadata": {
  "kernelspec": {
   "display_name": "Python 3",
   "language": "python",
   "name": "python3"
  },
  "language_info": {
   "codemirror_mode": {
    "name": "ipython",
    "version": 3
   },
   "file_extension": ".py",
   "mimetype": "text/x-python",
   "name": "python",
   "nbconvert_exporter": "python",
   "pygments_lexer": "ipython3",
   "version": "3.11.1"
  }
 },
 "nbformat": 4,
 "nbformat_minor": 2
}
